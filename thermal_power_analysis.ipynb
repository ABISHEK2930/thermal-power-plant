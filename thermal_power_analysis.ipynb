{
 "cells": [
  {
   "cell_type": "code",
   "execution_count": null,
   "id": "9fc5bbf9",
   "metadata": {},
   "outputs": [],
   "source": [
    "# Import necessary libraries\n",
    "import numpy as np\n",
    "import matplotlib.pyplot as plt\n",
    "import pandas as pd\n",
    "\n",
    "# Function to calculate thermal efficiency using Rankine Cycle\n",
    "def thermal_efficiency(T_high, T_low):\n",
    "    \"\"\"\n",
    "    Calculates thermal efficiency using the Rankine cycle formula.\n",
    "    η = 1 - (T_low / T_high), where temperatures are in Kelvin.\n",
    "    \"\"\"\n",
    "    efficiency = 1 - (T_low / T_high)\n",
    "    return efficiency * 100  # Convert to percentage\n",
    "\n",
    "# Function to estimate emissions based on fuel consumption\n",
    "def emissions_estimation(fuel_type, fuel_consumed):\n",
    "    \"\"\"\n",
    "    Estimates CO2, SO2, and NOx emissions based on fuel type and consumption (kg).\n",
    "    \"\"\"\n",
    "    emission_factors = {\n",
    "        \"coal\": {\"CO2\": 2.5, \"SO2\": 0.04, \"NOx\": 0.007},\n",
    "        \"natural_gas\": {\"CO2\": 2.0, \"SO2\": 0.002, \"NOx\": 0.005},\n",
    "        \"oil\": {\"CO2\": 2.3, \"SO2\": 0.03, \"NOx\": 0.006},\n",
    "    }\n",
    "    \n",
    "    if fuel_type not in emission_factors:\n",
    "        return \"Invalid fuel type. Choose from coal, natural_gas, or oil.\"\n",
    "    \n",
    "    emissions = {key: val * fuel_consumed for key, val in emission_factors[fuel_type].items()}\n",
    "    return emissions"
   ]
  },
  {
   "cell_type": "code",
   "execution_count": null,
   "id": "1d5815fd",
   "metadata": {},
   "outputs": [],
   "source": [
    "# Simulated data for different temperature conditions (in Kelvin)\n",
    "T_high_values = np.linspace(500, 900, 10)  # Boiler temperature range\n",
    "T_low = 300  # Condenser temperature (fixed)\n",
    "\n",
    "efficiencies = [thermal_efficiency(T_high, T_low) for T_high in T_high_values]\n",
    "\n",
    "# Plot efficiency vs temperature\n",
    "plt.figure(figsize=(8,5))\n",
    "plt.plot(T_high_values, efficiencies, marker='o', linestyle='-', color='b', label='Thermal Efficiency')\n",
    "plt.xlabel(\"Boiler Temperature (K)\")\n",
    "plt.ylabel(\"Thermal Efficiency (%)\")\n",
    "plt.title(\"Thermal Efficiency vs. Boiler Temperature in Rankine Cycle\")\n",
    "plt.legend()\n",
    "plt.grid(True)\n",
    "plt.show()"
   ]
  },
  {
   "cell_type": "code",
   "execution_count": null,
   "id": "32e739d5",
   "metadata": {},
   "outputs": [],
   "source": [
    "# Example emissions calculation\n",
    "fuel_type = \"coal\"  # Change to \"natural_gas\" or \"oil\" as needed\n",
    "fuel_consumed = 1000  # in kg\n",
    "\n",
    "emission_results = emissions_estimation(fuel_type, fuel_consumed)\n",
    "\n",
    "# Creating a DataFrame for emissions\n",
    "df_emissions = pd.DataFrame([emission_results], index=[fuel_type])\n",
    "print(df_emissions)"
   ]
  }
 ],
 "metadata": {},
 "nbformat": 4,
 "nbformat_minor": 5
}
